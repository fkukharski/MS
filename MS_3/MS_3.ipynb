{
 "cells": [
  {
   "cell_type": "markdown",
   "id": "c1e5e1fe",
   "metadata": {},
   "source": [
    "### Студент: Кухарски Филипп\n",
    "\n",
    "Дата: 7 декабря 2021 года\n",
    "\n",
    "## Задание 4.2\n",
    "\n",
    "Постройте доверительные интервалы для дисперсии в нормальной модели с неизвестным математическим ожиданием для разных объемов выборки.\n",
    "\n",
    "- Покажите, что параметр $\\sigma^2$ попадает в доверительный интервал с нужной вероятностью.\n",
    "\n",
    "- Продемонстрируйте поведение доверительных интервалов как для малых объемов выборки, так и для больших.\n",
    "\n",
    "### Решение:"
   ]
  },
  {
   "cell_type": "markdown",
   "id": "6338bca6",
   "metadata": {},
   "source": [
    "Пусть имеется выборка $x_1, ..., x_n \\sim N(a, \\theta)$, где $a$ - неизвестное математическое ожидание.\n",
    "\n",
    "В качестве центральной статистики для параметра $\\theta$ выступает:\n",
    "\n",
    "$\\displaystyle{g(x1, ..., x_n; \\theta) = \\sum\\limits_{i = 1}^{n}\\frac{(x_i - \\overline{X})^2}{\\theta} = \\frac{n \\overline{S_n}^2}{\\theta} \\sim \\chi^2_{n-1}}$\n",
    "\n",
    "Тогда параметр $\\theta$ лежит в следующих границах:\n",
    "\n",
    "$\\displaystyle{\\frac{n \\overline{S_n}^2}{z_2} < \\theta < \\frac{\\overline{S_n}^2}{z_1}}$\n",
    "\n",
    "Здесь $z_1$ и $z_2$ берутся из несимметричного хи-квадрат распределения, из-за чего выбрать их симметричными мы не можем (иначе не сможем получить доверительный интервал минимальной ширины). Как это сделать, я так и не понял :("
   ]
  },
  {
   "cell_type": "code",
   "execution_count": null,
   "id": "bcdabe3e",
   "metadata": {},
   "outputs": [],
   "source": []
  }
 ],
 "metadata": {
  "kernelspec": {
   "display_name": "Python 3 (ipykernel)",
   "language": "python",
   "name": "python3"
  },
  "language_info": {
   "codemirror_mode": {
    "name": "ipython",
    "version": 3
   },
   "file_extension": ".py",
   "mimetype": "text/x-python",
   "name": "python",
   "nbconvert_exporter": "python",
   "pygments_lexer": "ipython3",
   "version": "3.8.10"
  }
 },
 "nbformat": 4,
 "nbformat_minor": 5
}
